{
  "nbformat": 4,
  "nbformat_minor": 0,
  "metadata": {
    "colab": {
      "provenance": [],
      "gpuType": "T4",
      "authorship_tag": "ABX9TyMHcQUVKr408vrvfGz+5y06",
      "include_colab_link": true
    },
    "kernelspec": {
      "name": "python3",
      "display_name": "Python 3"
    },
    "language_info": {
      "name": "python"
    },
    "accelerator": "GPU"
  },
  "cells": [
    {
      "cell_type": "markdown",
      "metadata": {
        "id": "view-in-github",
        "colab_type": "text"
      },
      "source": [
        "<a href=\"https://colab.research.google.com/github/prabhatu786/Assignment_5/blob/main/Assigment_5.ipynb\" target=\"_parent\"><img src=\"https://colab.research.google.com/assets/colab-badge.svg\" alt=\"Open In Colab\"/></a>"
      ]
    },
    {
      "cell_type": "markdown",
      "source": [
        "##1. What does an empty dictionary code look like?\n",
        "Answer: {}"
      ],
      "metadata": {
        "id": "lcXpNl1S19pF"
      }
    },
    {
      "cell_type": "markdown",
      "source": [
        "##2. What is the value of a dictionary value with the key &#39;foo&#39; and the value 42?\n",
        "\n",
        "Answer-The value of a dictionary value with the key 'foo' and the value 42 is {'foo': 42}"
      ],
      "metadata": {
        "id": "lzwBFn0i2L9r"
      }
    },
    {
      "cell_type": "code",
      "source": [
        "value={'foo':42}"
      ],
      "metadata": {
        "id": "mPDA1ROi2gY6"
      },
      "execution_count": 2,
      "outputs": []
    },
    {
      "cell_type": "markdown",
      "source": [
        "##3. What is the most significant distinction between a dictionary and a list?\n",
        "\n",
        "Answer-A dictionary refers to a hashed structure of various pairs of keys and values and List is ordered and mutable, whereas dictionaries are unordered and mutable."
      ],
      "metadata": {
        "id": "JMTUInK12yRH"
      }
    },
    {
      "cell_type": "markdown",
      "source": [
        "##4. What happens if you try to access spam[&#39;foo&#39;] if spam is {&#39;bar&#39;: 100}?\n",
        "\n",
        "Answer-we will get KeyError"
      ],
      "metadata": {
        "id": "xIDruzCi3u6s"
      }
    },
    {
      "cell_type": "code",
      "source": [
        "spam = {'bar': 100}\n",
        "spam['foo']"
      ],
      "metadata": {
        "colab": {
          "base_uri": "https://localhost:8080/",
          "height": 182
        },
        "id": "0LuwjoE839QN",
        "outputId": "0917e1e5-6215-48c6-de03-c8050bfc287d"
      },
      "execution_count": 3,
      "outputs": [
        {
          "output_type": "error",
          "ename": "KeyError",
          "evalue": "ignored",
          "traceback": [
            "\u001b[0;31m---------------------------------------------------------------------------\u001b[0m",
            "\u001b[0;31mKeyError\u001b[0m                                  Traceback (most recent call last)",
            "\u001b[0;32m<ipython-input-3-56a8e50c7ff8>\u001b[0m in \u001b[0;36m<cell line: 2>\u001b[0;34m()\u001b[0m\n\u001b[1;32m      1\u001b[0m \u001b[0mspam\u001b[0m \u001b[0;34m=\u001b[0m \u001b[0;34m{\u001b[0m\u001b[0;34m'bar'\u001b[0m\u001b[0;34m:\u001b[0m \u001b[0;36m100\u001b[0m\u001b[0;34m}\u001b[0m\u001b[0;34m\u001b[0m\u001b[0;34m\u001b[0m\u001b[0m\n\u001b[0;32m----> 2\u001b[0;31m \u001b[0mspam\u001b[0m\u001b[0;34m[\u001b[0m\u001b[0;34m'foo'\u001b[0m\u001b[0;34m]\u001b[0m\u001b[0;34m\u001b[0m\u001b[0;34m\u001b[0m\u001b[0m\n\u001b[0m",
            "\u001b[0;31mKeyError\u001b[0m: 'foo'"
          ]
        }
      ]
    },
    {
      "cell_type": "markdown",
      "source": [
        "##5. If a dictionary is stored in spam, what is the difference between the expressions &#39;cat&#39; in spam and&#39;cat&#39; in spam.keys()?\n",
        "\n",
        "Answer- There is no difference. The in operator checks whether a value exists as a key in the dictionary.\n",
        "\n"
      ],
      "metadata": {
        "id": "_18pNIrs4PvQ"
      }
    },
    {
      "cell_type": "markdown",
      "source": [
        "\n",
        "##6.If a dictionary is stored in spam, what is the difference between the expressions 'cat' in spam and 'cat' in spam.values()?\n",
        "\n",
        "Answer -\n",
        "'cat' in spam checks whether there is a 'cat' key in the dictionary, while 'cat' in spam.values() checks whether there is a value 'cat' for one of the keys in spam."
      ],
      "metadata": {
        "id": "NKoMwgI946q5"
      }
    },
    {
      "cell_type": "markdown",
      "source": [
        "##7. What is a shortcut for the following code?\n",
        "if &#39;color&#39; not in spam:\n",
        "\n",
        "spam[&#39;color&#39;] = &#39;black&#39;\n",
        "\n"
      ],
      "metadata": {
        "id": "cLlAnSC95Xon"
      }
    },
    {
      "cell_type": "code",
      "source": [
        "spam.setdefault('color', 'black')"
      ],
      "metadata": {
        "colab": {
          "base_uri": "https://localhost:8080/",
          "height": 36
        },
        "id": "aYA7LiFn5y_4",
        "outputId": "66e18c87-2993-4620-cff8-0b48361cdefc"
      },
      "execution_count": 4,
      "outputs": [
        {
          "output_type": "execute_result",
          "data": {
            "text/plain": [
              "'black'"
            ],
            "application/vnd.google.colaboratory.intrinsic+json": {
              "type": "string"
            }
          },
          "metadata": {},
          "execution_count": 4
        }
      ]
    },
    {
      "cell_type": "markdown",
      "source": [
        "##8. How do you &quot;pretty print&quot; dictionary values using which module and function?\n",
        "\n",
        "Answer- pprint()"
      ],
      "metadata": {
        "id": "dIjaZnb76IWz"
      }
    }
  ]
}